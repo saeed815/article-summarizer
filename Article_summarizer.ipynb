{
  "nbformat": 4,
  "nbformat_minor": 0,
  "metadata": {
    "colab": {
      "provenance": [],
      "include_colab_link": true
    },
    "kernelspec": {
      "name": "python3",
      "display_name": "Python 3"
    },
    "language_info": {
      "name": "python"
    }
  },
  "cells": [
    {
      "cell_type": "markdown",
      "metadata": {
        "id": "view-in-github",
        "colab_type": "text"
      },
      "source": [
        "<a href=\"https://colab.research.google.com/github/saeed815/article-summarizer/blob/main/Article_summarizer.ipynb\" target=\"_parent\"><img src=\"https://colab.research.google.com/assets/colab-badge.svg\" alt=\"Open In Colab\"/></a>"
      ]
    },
    {
      "cell_type": "code",
      "source": [
        "pip install sumy wand newspaper3k requests numpy"
      ],
      "metadata": {
        "id": "--FoaDw-FCUO",
        "colab": {
          "base_uri": "https://localhost:8080/"
        },
        "outputId": "1bf5b140-a4ad-4c7e-ee7a-521a76efea58"
      },
      "execution_count": null,
      "outputs": [
        {
          "output_type": "stream",
          "name": "stdout",
          "text": [
            "Looking in indexes: https://pypi.org/simple, https://us-python.pkg.dev/colab-wheels/public/simple/\n",
            "Collecting sumy\n",
            "  Downloading sumy-0.11.0-py2.py3-none-any.whl (97 kB)\n",
            "\u001b[2K     \u001b[90m━━━━━━━━━━━━━━━━━━━━━━━━━━━━━━━━━━━━━━━━\u001b[0m \u001b[32m97.3/97.3 kB\u001b[0m \u001b[31m6.9 MB/s\u001b[0m eta \u001b[36m0:00:00\u001b[0m\n",
            "\u001b[?25hCollecting wand\n",
            "  Downloading Wand-0.6.11-py2.py3-none-any.whl (143 kB)\n",
            "\u001b[2K     \u001b[90m━━━━━━━━━━━━━━━━━━━━━━━━━━━━━━━━━━━━━━\u001b[0m \u001b[32m143.6/143.6 kB\u001b[0m \u001b[31m13.5 MB/s\u001b[0m eta \u001b[36m0:00:00\u001b[0m\n",
            "\u001b[?25hCollecting newspaper3k\n",
            "  Downloading newspaper3k-0.2.8-py3-none-any.whl (211 kB)\n",
            "\u001b[2K     \u001b[90m━━━━━━━━━━━━━━━━━━━━━━━━━━━━━━━━━━━━━━\u001b[0m \u001b[32m211.1/211.1 kB\u001b[0m \u001b[31m21.7 MB/s\u001b[0m eta \u001b[36m0:00:00\u001b[0m\n",
            "\u001b[?25hRequirement already satisfied: requests in /usr/local/lib/python3.10/dist-packages (2.27.1)\n",
            "Requirement already satisfied: numpy in /usr/local/lib/python3.10/dist-packages (1.22.4)\n",
            "Collecting docopt<0.7,>=0.6.1 (from sumy)\n",
            "  Downloading docopt-0.6.2.tar.gz (25 kB)\n",
            "  Preparing metadata (setup.py) ... \u001b[?25l\u001b[?25hdone\n",
            "Collecting breadability>=0.1.20 (from sumy)\n",
            "  Downloading breadability-0.1.20.tar.gz (32 kB)\n",
            "  Preparing metadata (setup.py) ... \u001b[?25l\u001b[?25hdone\n",
            "Collecting pycountry>=18.2.23 (from sumy)\n",
            "  Downloading pycountry-22.3.5.tar.gz (10.1 MB)\n",
            "\u001b[2K     \u001b[90m━━━━━━━━━━━━━━━━━━━━━━━━━━━━━━━━━━━━━━━━\u001b[0m \u001b[32m10.1/10.1 MB\u001b[0m \u001b[31m80.0 MB/s\u001b[0m eta \u001b[36m0:00:00\u001b[0m\n",
            "\u001b[?25h  Installing build dependencies ... \u001b[?25l\u001b[?25hdone\n",
            "  Getting requirements to build wheel ... \u001b[?25l\u001b[?25hdone\n",
            "  Preparing metadata (pyproject.toml) ... \u001b[?25l\u001b[?25hdone\n",
            "Requirement already satisfied: nltk>=3.0.2 in /usr/local/lib/python3.10/dist-packages (from sumy) (3.8.1)\n",
            "Requirement already satisfied: beautifulsoup4>=4.4.1 in /usr/local/lib/python3.10/dist-packages (from newspaper3k) (4.11.2)\n",
            "Requirement already satisfied: Pillow>=3.3.0 in /usr/local/lib/python3.10/dist-packages (from newspaper3k) (8.4.0)\n",
            "Requirement already satisfied: PyYAML>=3.11 in /usr/local/lib/python3.10/dist-packages (from newspaper3k) (6.0)\n",
            "Collecting cssselect>=0.9.2 (from newspaper3k)\n",
            "  Downloading cssselect-1.2.0-py2.py3-none-any.whl (18 kB)\n",
            "Requirement already satisfied: lxml>=3.6.0 in /usr/local/lib/python3.10/dist-packages (from newspaper3k) (4.9.2)\n",
            "Collecting feedparser>=5.2.1 (from newspaper3k)\n",
            "  Downloading feedparser-6.0.10-py3-none-any.whl (81 kB)\n",
            "\u001b[2K     \u001b[90m━━━━━━━━━━━━━━━━━━━━━━━━━━━━━━━━━━━━━━━━\u001b[0m \u001b[32m81.1/81.1 kB\u001b[0m \u001b[31m6.6 MB/s\u001b[0m eta \u001b[36m0:00:00\u001b[0m\n",
            "\u001b[?25hCollecting tldextract>=2.0.1 (from newspaper3k)\n",
            "  Downloading tldextract-3.4.4-py3-none-any.whl (93 kB)\n",
            "\u001b[2K     \u001b[90m━━━━━━━━━━━━━━━━━━━━━━━━━━━━━━━━━━━━━━━━\u001b[0m \u001b[32m93.3/93.3 kB\u001b[0m \u001b[31m9.6 MB/s\u001b[0m eta \u001b[36m0:00:00\u001b[0m\n",
            "\u001b[?25hCollecting feedfinder2>=0.0.4 (from newspaper3k)\n",
            "  Downloading feedfinder2-0.0.4.tar.gz (3.3 kB)\n",
            "  Preparing metadata (setup.py) ... \u001b[?25l\u001b[?25hdone\n",
            "Collecting jieba3k>=0.35.1 (from newspaper3k)\n",
            "  Downloading jieba3k-0.35.1.zip (7.4 MB)\n",
            "\u001b[2K     \u001b[90m━━━━━━━━━━━━━━━━━━━━━━━━━━━━━━━━━━━━━━━━\u001b[0m \u001b[32m7.4/7.4 MB\u001b[0m \u001b[31m64.8 MB/s\u001b[0m eta \u001b[36m0:00:00\u001b[0m\n",
            "\u001b[?25h  Preparing metadata (setup.py) ... \u001b[?25l\u001b[?25hdone\n",
            "Requirement already satisfied: python-dateutil>=2.5.3 in /usr/local/lib/python3.10/dist-packages (from newspaper3k) (2.8.2)\n",
            "Collecting tinysegmenter==0.3 (from newspaper3k)\n",
            "  Downloading tinysegmenter-0.3.tar.gz (16 kB)\n",
            "  Preparing metadata (setup.py) ... \u001b[?25l\u001b[?25hdone\n",
            "Requirement already satisfied: urllib3<1.27,>=1.21.1 in /usr/local/lib/python3.10/dist-packages (from requests) (1.26.15)\n",
            "Requirement already satisfied: certifi>=2017.4.17 in /usr/local/lib/python3.10/dist-packages (from requests) (2022.12.7)\n",
            "Requirement already satisfied: charset-normalizer~=2.0.0 in /usr/local/lib/python3.10/dist-packages (from requests) (2.0.12)\n",
            "Requirement already satisfied: idna<4,>=2.5 in /usr/local/lib/python3.10/dist-packages (from requests) (3.4)\n",
            "Requirement already satisfied: soupsieve>1.2 in /usr/local/lib/python3.10/dist-packages (from beautifulsoup4>=4.4.1->newspaper3k) (2.4.1)\n",
            "Requirement already satisfied: chardet in /usr/local/lib/python3.10/dist-packages (from breadability>=0.1.20->sumy) (4.0.0)\n",
            "Requirement already satisfied: six in /usr/local/lib/python3.10/dist-packages (from feedfinder2>=0.0.4->newspaper3k) (1.16.0)\n",
            "Collecting sgmllib3k (from feedparser>=5.2.1->newspaper3k)\n",
            "  Downloading sgmllib3k-1.0.0.tar.gz (5.8 kB)\n",
            "  Preparing metadata (setup.py) ... \u001b[?25l\u001b[?25hdone\n",
            "Requirement already satisfied: click in /usr/local/lib/python3.10/dist-packages (from nltk>=3.0.2->sumy) (8.1.3)\n",
            "Requirement already satisfied: joblib in /usr/local/lib/python3.10/dist-packages (from nltk>=3.0.2->sumy) (1.2.0)\n",
            "Requirement already satisfied: regex>=2021.8.3 in /usr/local/lib/python3.10/dist-packages (from nltk>=3.0.2->sumy) (2022.10.31)\n",
            "Requirement already satisfied: tqdm in /usr/local/lib/python3.10/dist-packages (from nltk>=3.0.2->sumy) (4.65.0)\n",
            "Requirement already satisfied: setuptools in /usr/local/lib/python3.10/dist-packages (from pycountry>=18.2.23->sumy) (67.7.2)\n",
            "Collecting requests-file>=1.4 (from tldextract>=2.0.1->newspaper3k)\n",
            "  Downloading requests_file-1.5.1-py2.py3-none-any.whl (3.7 kB)\n",
            "Requirement already satisfied: filelock>=3.0.8 in /usr/local/lib/python3.10/dist-packages (from tldextract>=2.0.1->newspaper3k) (3.12.0)\n",
            "Building wheels for collected packages: tinysegmenter, breadability, docopt, feedfinder2, jieba3k, pycountry, sgmllib3k\n",
            "  Building wheel for tinysegmenter (setup.py) ... \u001b[?25l\u001b[?25hdone\n",
            "  Created wheel for tinysegmenter: filename=tinysegmenter-0.3-py3-none-any.whl size=13541 sha256=e47966d15cca7b042fb13b399b19c89608d034a2eb9f718560165826cf012789\n",
            "  Stored in directory: /root/.cache/pip/wheels/c8/d6/6c/384f58df48c00b9a31d638005143b5b3ac62c3d25fb1447f23\n",
            "  Building wheel for breadability (setup.py) ... \u001b[?25l\u001b[?25hdone\n",
            "  Created wheel for breadability: filename=breadability-0.1.20-py2.py3-none-any.whl size=21696 sha256=986740c6112a2a386ec9bb6292d471b7ce1daefbd750e199b466b4555cb90210\n",
            "  Stored in directory: /root/.cache/pip/wheels/64/22/90/b84fcc30e16598db20a0d41340616dbf9b1e82bbcc627b0b33\n",
            "  Building wheel for docopt (setup.py) ... \u001b[?25l\u001b[?25hdone\n",
            "  Created wheel for docopt: filename=docopt-0.6.2-py2.py3-none-any.whl size=13707 sha256=3e6221fc62d17d867fb34978f46fcae00fe3aba44f12644d5ffd5a12282f271c\n",
            "  Stored in directory: /root/.cache/pip/wheels/fc/ab/d4/5da2067ac95b36618c629a5f93f809425700506f72c9732fac\n",
            "  Building wheel for feedfinder2 (setup.py) ... \u001b[?25l\u001b[?25hdone\n",
            "  Created wheel for feedfinder2: filename=feedfinder2-0.0.4-py3-none-any.whl size=3341 sha256=593d453869508530e18bdd9e57b3aa1bdaf3ce3e25af3c9b107992be2c0e2791\n",
            "  Stored in directory: /root/.cache/pip/wheels/97/02/e7/a1ff1760e12bdbaab0ac824fae5c1bc933e41c4ccd6a8f8edb\n",
            "  Building wheel for jieba3k (setup.py) ... \u001b[?25l\u001b[?25hdone\n",
            "  Created wheel for jieba3k: filename=jieba3k-0.35.1-py3-none-any.whl size=7398382 sha256=d2b2e55bc338bf7c3278298dd0732a64226120d05f69205e1f727518049125ed\n",
            "  Stored in directory: /root/.cache/pip/wheels/7a/c4/0c/12a9a314ecac499456c4c3b2fcc2f635a3b45a39dfbd240299\n",
            "  Building wheel for pycountry (pyproject.toml) ... \u001b[?25l\u001b[?25hdone\n",
            "  Created wheel for pycountry: filename=pycountry-22.3.5-py2.py3-none-any.whl size=10681832 sha256=41c9a8770155334bee2c283f4552985a6cde19bde7e42eae794052034b3e762a\n",
            "  Stored in directory: /root/.cache/pip/wheels/03/57/cc/290c5252ec97a6d78d36479a3c5e5ecc76318afcb241ad9dbe\n",
            "  Building wheel for sgmllib3k (setup.py) ... \u001b[?25l\u001b[?25hdone\n",
            "  Created wheel for sgmllib3k: filename=sgmllib3k-1.0.0-py3-none-any.whl size=6046 sha256=9af7c0d59de51406afcbf723dba4145e1e74947e741bb6f305fe5bc8976e29ef\n",
            "  Stored in directory: /root/.cache/pip/wheels/f0/69/93/a47e9d621be168e9e33c7ce60524393c0b92ae83cf6c6e89c5\n",
            "Successfully built tinysegmenter breadability docopt feedfinder2 jieba3k pycountry sgmllib3k\n",
            "Installing collected packages: wand, tinysegmenter, sgmllib3k, jieba3k, docopt, pycountry, feedparser, cssselect, breadability, sumy, requests-file, feedfinder2, tldextract, newspaper3k\n",
            "Successfully installed breadability-0.1.20 cssselect-1.2.0 docopt-0.6.2 feedfinder2-0.0.4 feedparser-6.0.10 jieba3k-0.35.1 newspaper3k-0.2.8 pycountry-22.3.5 requests-file-1.5.1 sgmllib3k-1.0.0 sumy-0.11.0 tinysegmenter-0.3 tldextract-3.4.4 wand-0.6.11\n"
          ]
        }
      ]
    },
    {
      "cell_type": "code",
      "source": [
        "!sudo apt-get install libmagickwand-dev"
      ],
      "metadata": {
        "id": "Kie32lfsMfJv"
      },
      "execution_count": null,
      "outputs": []
    },
    {
      "cell_type": "code",
      "source": [
        "import nltk\n",
        "nltk.download('punkt')"
      ],
      "metadata": {
        "id": "uNSJ9_I3Fkbo",
        "colab": {
          "base_uri": "https://localhost:8080/"
        },
        "outputId": "892ed9f2-a679-4adb-95af-a23eedb2b3ac"
      },
      "execution_count": null,
      "outputs": [
        {
          "output_type": "stream",
          "name": "stderr",
          "text": [
            "[nltk_data] Downloading package punkt to /root/nltk_data...\n",
            "[nltk_data]   Unzipping tokenizers/punkt.zip.\n"
          ]
        },
        {
          "output_type": "execute_result",
          "data": {
            "text/plain": [
              "True"
            ]
          },
          "metadata": {},
          "execution_count": 11
        }
      ]
    },
    {
      "cell_type": "code",
      "source": [
        "from newspaper import Article\n",
        "\n",
        "url = \"https://www.nytimes.com/2023/06/10/us/politics/kaczynski-unabomber-suicide-prison.html\"\n",
        "article  =  Article(url)\n",
        "article.download()\n",
        "article.parse()"
      ],
      "metadata": {
        "id": "ugDl5xUWFsYb"
      },
      "execution_count": null,
      "outputs": []
    },
    {
      "cell_type": "code",
      "source": [
        "article.publish_date"
      ],
      "metadata": {
        "id": "9eeRyH_pF2Nw",
        "colab": {
          "base_uri": "https://localhost:8080/"
        },
        "outputId": "09bf4536-e96a-4b84-e0ba-cfbaf29f6a73"
      },
      "execution_count": null,
      "outputs": [
        {
          "output_type": "execute_result",
          "data": {
            "text/plain": [
              "datetime.datetime(2023, 6, 10, 0, 0)"
            ]
          },
          "metadata": {},
          "execution_count": 6
        }
      ]
    },
    {
      "cell_type": "code",
      "source": [
        "len(article.images)"
      ],
      "metadata": {
        "colab": {
          "base_uri": "https://localhost:8080/"
        },
        "id": "lrBSeDMzHfeb",
        "outputId": "828b3312-5c0a-40c4-f916-7778ade3e22d"
      },
      "execution_count": null,
      "outputs": [
        {
          "output_type": "execute_result",
          "data": {
            "text/plain": [
              "3"
            ]
          },
          "metadata": {},
          "execution_count": 7
        }
      ]
    },
    {
      "cell_type": "code",
      "source": [
        "article.nlp()"
      ],
      "metadata": {
        "id": "aPYv4217J2Zw"
      },
      "execution_count": null,
      "outputs": []
    },
    {
      "cell_type": "code",
      "source": [
        "article.text"
      ],
      "metadata": {
        "colab": {
          "base_uri": "https://localhost:8080/",
          "height": 105
        },
        "id": "OeRRvNU3J2D6",
        "outputId": "57c51b59-81c0-4e89-8f47-0896e60f32df"
      },
      "execution_count": null,
      "outputs": [
        {
          "output_type": "execute_result",
          "data": {
            "text/plain": [
              "'Theodore J. Kaczynski, the “Unabomber,” who killed three people and injured 23 in a bombing spree stretching from 1978 to 1995, died by suicide at a federal prison medical center in North Carolina early Saturday, according to three people familiar with the situation.\\n\\nEmergency workers were called to Mr. Kaczynski’s cell at 12:23 a.m. at the Federal Medical Center, Butner, according to the Federal Bureau of Prisons. Attempts to revive him in the prison and in an ambulance were unsuccessful, and he was later pronounced dead at a nearby hospital, officials said. He was 81.\\n\\nThe F.B.I. was notified of his death. The Office of the Chief Medical Examiner in North Carolina confirmed in an email that it conducts autopsies of deaths at the federal medical center in Butner, but offered no timetable for when one might be completed for Mr. Kaczynski.\\n\\nThe circumstances of his suicide are unclear, and it is uncertain whether prison officials could have done more to ensure his safety. But the self-inflicted death of another high-profile inmate, four years after the accused sex offender Jeffrey Epstein hanged himself at a Manhattan federal detention center, is certain to raise fresh questions about the quality of security, oversight and health care in the troubled, chronically understaffed federal prison system.'"
            ],
            "application/vnd.google.colaboratory.intrinsic+json": {
              "type": "string"
            }
          },
          "metadata": {},
          "execution_count": 17
        }
      ]
    },
    {
      "cell_type": "code",
      "source": [
        "article.summary"
      ],
      "metadata": {
        "id": "HWHLXsKcKESN",
        "colab": {
          "base_uri": "https://localhost:8080/",
          "height": 105
        },
        "outputId": "c44511f7-c787-4867-af1c-f624e83e9008"
      },
      "execution_count": null,
      "outputs": [
        {
          "output_type": "execute_result",
          "data": {
            "text/plain": [
              "'Theodore J. Kaczynski, the “Unabomber,” who killed three people and injured 23 in a bombing spree stretching from 1978 to 1995, died by suicide at a federal prison medical center in North Carolina early Saturday, according to three people familiar with the situation.\\nEmergency workers were called to Mr. Kaczynski’s cell at 12:23 a.m. at the Federal Medical Center, Butner, according to the Federal Bureau of Prisons.\\nAttempts to revive him in the prison and in an ambulance were unsuccessful, and he was later pronounced dead at a nearby hospital, officials said.\\nThe Office of the Chief Medical Examiner in North Carolina confirmed in an email that it conducts autopsies of deaths at the federal medical center in Butner, but offered no timetable for when one might be completed for Mr. Kaczynski.\\nThe circumstances of his suicide are unclear, and it is uncertain whether prison officials could have done more to ensure his safety.'"
            ],
            "application/vnd.google.colaboratory.intrinsic+json": {
              "type": "string"
            }
          },
          "metadata": {},
          "execution_count": 18
        }
      ]
    },
    {
      "cell_type": "code",
      "source": [
        "from sumy.parsers.plaintext import PlaintextParser\n",
        "from sumy.nlp.tokenizers import Tokenizer\n",
        "from sumy.summarizers.luhn import LuhnSummarizer as Summarizer\n",
        "from sumy.nlp.stemmers import Stemmer"
      ],
      "metadata": {
        "id": "xL_OQGqnQ7l2"
      },
      "execution_count": null,
      "outputs": []
    },
    {
      "cell_type": "code",
      "source": [
        "LANGUAGE = \"english\"\n",
        "SENTENCES_COUNT = 4\n",
        "\n",
        "parser = PlaintextParser.from_string(article.text, Tokenizer(LANGUAGE))\n",
        "stemmer = Stemmer(LANGUAGE)\n",
        "summarizer = Summarizer(stemmer)\n",
        "\n",
        "for sentence in summarizer(parser.document, SENTENCES_COUNT):\n",
        "    print(sentence)\n"
      ],
      "metadata": {
        "colab": {
          "base_uri": "https://localhost:8080/"
        },
        "id": "hkfXeVP4Q7tV",
        "outputId": "343c4d5f-b5b0-460e-d334-8fa854c95b11"
      },
      "execution_count": null,
      "outputs": [
        {
          "output_type": "stream",
          "name": "stdout",
          "text": [
            "Theodore J. Kaczynski, the “Unabomber,” who killed three people and injured 23 in a bombing spree stretching from 1978 to 1995, died by suicide at a federal prison medical center in North Carolina early Saturday, according to three people familiar with the situation.\n",
            "Emergency workers were called to Mr. Kaczynski’s cell at 12:23 a.m. at the Federal Medical Center, Butner, according to the Federal Bureau of Prisons.\n",
            "Attempts to revive him in the prison and in an ambulance were unsuccessful, and he was later pronounced dead at a nearby hospital, officials said.\n",
            "The Office of the Chief Medical Examiner in North Carolina confirmed in an email that it conducts autopsies of deaths at the federal medical center in Butner, but offered no timetable for when one might be completed for Mr. Kaczynski.\n"
          ]
        }
      ]
    },
    {
      "cell_type": "code",
      "source": [
        "from sumy.parsers.plaintext import PlaintextParser\n",
        "from sumy.nlp.tokenizers import Tokenizer\n",
        "from sumy.summarizers.luhn import LuhnSummarizer\n",
        "from sumy.summarizers.text_rank import TextRankSummarizer\n",
        "from sumy.summarizers.lsa import LsaSummarizer\n",
        "from sumy.summarizers.edmundson import EdmundsonSummarizer\n",
        "from sumy.summarizers.lex_rank import LexRankSummarizer\n",
        "from sumy.summarizers.sum_basic import SumBasicSummarizer\n",
        "from sumy.summarizers.reduction import ReductionSummarizer\n",
        "from sumy.nlp.stemmers import Stemmer\n",
        "from sumy.utils import get_stop_words\n",
        "\n",
        "res = \"\"\n",
        "LANGUAGE = \"english\"\n",
        "SENTENCES_COUNT = 2\n",
        "\n",
        "parser = PlaintextParser.from_string(article.text, Tokenizer(LANGUAGE))\n",
        "stemmer = Stemmer(LANGUAGE)\n",
        "\n",
        "print(\"\\n====== Luhn ======\")\n",
        "summarizerLuhn = LuhnSummarizer(stemmer)\n",
        "for sentenceLuhn in summarizerLuhn(parser.document, SENTENCES_COUNT):\n",
        "    print(sentenceLuhn, \"\\n\")\n",
        "    res+=str(sentenceLuhn)\n",
        "\n",
        "print(\"====== TextRank ======\")\n",
        "summarizerTR = TextRankSummarizer(stemmer)\n",
        "for sentenceTR in summarizerTR(parser.document, SENTENCES_COUNT):\n",
        "    print(sentenceTR, \"\\n\")\n",
        "\n",
        "\n",
        "print(\"====== Lex Rank ======\")\n",
        "summarizerLR = LexRankSummarizer(stemmer)\n",
        "for sentenceLR in summarizerLR(parser.document, SENTENCES_COUNT):\n",
        "    print(sentenceLR, \"\\n\")\n",
        "\n",
        "print(\"====== Sum Basic ======\")\n",
        "summarizerSumBasic = SumBasicSummarizer(stemmer)\n",
        "for sentenceSB in summarizerSumBasic(parser.document, SENTENCES_COUNT):\n",
        "    print(sentenceSB, \"\\n\")\n",
        "\n",
        "print(\"====== Reduction ======\")\n",
        "summarizerRed = ReductionSummarizer(stemmer)\n",
        "for sentenceRed in summarizerRed(parser.document, SENTENCES_COUNT):\n",
        "    print(sentenceRed, \"\\n\")"
      ],
      "metadata": {
        "id": "GxsU884PRZdc",
        "colab": {
          "base_uri": "https://localhost:8080/"
        },
        "outputId": "46d753d9-0e67-4914-ad35-6da9e510272d"
      },
      "execution_count": null,
      "outputs": [
        {
          "output_type": "stream",
          "name": "stdout",
          "text": [
            "\n",
            "====== Luhn ======\n",
            "Emergency workers were called to Mr. Kaczynski’s cell at 12:23 a.m. at the Federal Medical Center, Butner, according to the Federal Bureau of Prisons. \n",
            "\n",
            "The Office of the Chief Medical Examiner in North Carolina confirmed in an email that it conducts autopsies of deaths at the federal medical center in Butner, but offered no timetable for when one might be completed for Mr. Kaczynski. \n",
            "\n",
            "====== TextRank ======\n",
            "The Office of the Chief Medical Examiner in North Carolina confirmed in an email that it conducts autopsies of deaths at the federal medical center in Butner, but offered no timetable for when one might be completed for Mr. Kaczynski. \n",
            "\n",
            "But the self-inflicted death of another high-profile inmate, four years after the accused sex offender Jeffrey Epstein hanged himself at a Manhattan federal detention center, is certain to raise fresh questions about the quality of security, oversight and health care in the troubled, chronically understaffed federal prison system. \n",
            "\n",
            "====== Lex Rank ======\n",
            "He was 81. \n",
            "\n",
            "was notified of his death. \n",
            "\n",
            "====== Sum Basic ======\n",
            "Emergency workers were called to Mr. Kaczynski’s cell at 12:23 a.m. at the Federal Medical Center, Butner, according to the Federal Bureau of Prisons. \n",
            "\n",
            "The F.B.I. \n",
            "\n",
            "====== Reduction ======\n",
            "The Office of the Chief Medical Examiner in North Carolina confirmed in an email that it conducts autopsies of deaths at the federal medical center in Butner, but offered no timetable for when one might be completed for Mr. Kaczynski. \n",
            "\n",
            "But the self-inflicted death of another high-profile inmate, four years after the accused sex offender Jeffrey Epstein hanged himself at a Manhattan federal detention center, is certain to raise fresh questions about the quality of security, oversight and health care in the troubled, chronically understaffed federal prison system. \n",
            "\n"
          ]
        }
      ]
    },
    {
      "cell_type": "code",
      "source": [
        "from nltk.data import OpenOnDemandZipFile\n",
        "from wand.image import Image\n",
        "from wand.color import Color\n",
        "from wand.drawing import Drawing\n",
        "from wand.display import display\n",
        "from wand.font import Font\n",
        "from urllib.request import urlopen\n",
        "import requests\n",
        "\n",
        "image_url = list(article.images)[0]\n",
        "opened = urlopen(image_url)\n",
        "image_blob = requests.get(image_url)\n",
        "\n",
        "dims = (1080, 1920)\n",
        "ideal_width = dims[0]\n",
        "ideal_height = dims[1]\n",
        "ideal_aspect = ideal_width / ideal_height\n",
        "\n",
        "# Get the size of the downloaded image\n",
        "with Image(file=opened) as img:\n",
        "    size = img.size\n",
        "\n",
        "width = size[0]\n",
        "height = size[1]\n",
        "aspect = width/height\n",
        "CAPTION = (res)\n",
        "\n",
        "\n",
        "if aspect > ideal_aspect:\n",
        "    # Then crop the left and right edges:\n",
        "    new_width = int(ideal_aspect * height)\n",
        "    offset = (width - new_width) / 2\n",
        "    resize = (int(offset), 0, int(width - offset), int(height))\n",
        "else:\n",
        "    # ... crop the top and bottom:\n",
        "    new_height = int(width / ideal_aspect)\n",
        "    offset = (height - new_height) / 2\n",
        "    resize = (0, int(offset), int(width), int(height - offset))\n",
        "\n",
        "opened = urlopen(image_url)\n",
        "with Image(file=opened) as img:\n",
        "    img.crop(*resize)\n",
        "    img.save(filename='cropped.jpg')\n",
        "\n",
        "\n",
        "with Image(filename=\"cropped.jpg\") as canvas:\n",
        "    canvas.font = Font(\"SanFranciscoDisplay-Bold.otf\",\n",
        "                        size=20,\n",
        "                        color=Color('white'))\n",
        "    caption_width = int(canvas.width/1.2)\n",
        "    margin_left = int((canvas.width-caption_width)/2)\n",
        "    margin_top = int(canvas.height/2)\n",
        "    canvas.caption(CAPTION, gravity='center',\n",
        "                   width=caption_width, left=margin_left,\n",
        "                   top=margin_top)\n",
        "    canvas.format = \"jpg\"\n",
        "    canvas.save(filename='text_overlayed_1.jpg')"
      ],
      "metadata": {
        "id": "gY6CWiqnvvA8"
      },
      "execution_count": null,
      "outputs": []
    },
    {
      "cell_type": "code",
      "source": [
        "!pip install instagrapi"
      ],
      "metadata": {
        "id": "I0c1rShlRooD",
        "colab": {
          "base_uri": "https://localhost:8080/"
        },
        "outputId": "221c057a-803e-47f3-c510-da3edc315726"
      },
      "execution_count": null,
      "outputs": [
        {
          "output_type": "stream",
          "name": "stdout",
          "text": [
            "Looking in indexes: https://pypi.org/simple, https://us-python.pkg.dev/colab-wheels/public/simple/\n",
            "Collecting instagrapi\n",
            "  Downloading instagrapi-1.17.10.tar.gz (90 kB)\n",
            "\u001b[2K     \u001b[90m━━━━━━━━━━━━━━━━━━━━━━━━━━━━━━━━━━━━━━━━\u001b[0m \u001b[32m90.2/90.2 kB\u001b[0m \u001b[31m5.4 MB/s\u001b[0m eta \u001b[36m0:00:00\u001b[0m\n",
            "\u001b[?25h  Preparing metadata (setup.py) ... \u001b[?25l\u001b[?25hdone\n",
            "Requirement already satisfied: requests<3.0,>=2.25.1 in /usr/local/lib/python3.10/dist-packages (from instagrapi) (2.27.1)\n",
            "Requirement already satisfied: PySocks==1.7.1 in /usr/local/lib/python3.10/dist-packages (from instagrapi) (1.7.1)\n",
            "Requirement already satisfied: pydantic==1.10.7 in /usr/local/lib/python3.10/dist-packages (from instagrapi) (1.10.7)\n",
            "Collecting pycryptodomex==3.17 (from instagrapi)\n",
            "  Downloading pycryptodomex-3.17-cp35-abi3-manylinux_2_17_x86_64.manylinux2014_x86_64.whl (2.1 MB)\n",
            "\u001b[2K     \u001b[90m━━━━━━━━━━━━━━━━━━━━━━━━━━━━━━━━━━━━━━━━\u001b[0m \u001b[32m2.1/2.1 MB\u001b[0m \u001b[31m39.2 MB/s\u001b[0m eta \u001b[36m0:00:00\u001b[0m\n",
            "\u001b[?25hRequirement already satisfied: typing-extensions>=4.2.0 in /usr/local/lib/python3.10/dist-packages (from pydantic==1.10.7->instagrapi) (4.5.0)\n",
            "Requirement already satisfied: urllib3<1.27,>=1.21.1 in /usr/local/lib/python3.10/dist-packages (from requests<3.0,>=2.25.1->instagrapi) (1.26.15)\n",
            "Requirement already satisfied: certifi>=2017.4.17 in /usr/local/lib/python3.10/dist-packages (from requests<3.0,>=2.25.1->instagrapi) (2022.12.7)\n",
            "Requirement already satisfied: charset-normalizer~=2.0.0 in /usr/local/lib/python3.10/dist-packages (from requests<3.0,>=2.25.1->instagrapi) (2.0.12)\n",
            "Requirement already satisfied: idna<4,>=2.5 in /usr/local/lib/python3.10/dist-packages (from requests<3.0,>=2.25.1->instagrapi) (3.4)\n",
            "Building wheels for collected packages: instagrapi\n",
            "  Building wheel for instagrapi (setup.py) ... \u001b[?25l\u001b[?25hdone\n",
            "  Created wheel for instagrapi: filename=instagrapi-1.17.10-py3-none-any.whl size=103713 sha256=008f0610eb84731f3a8f56e892acaf10fc8eefff50526ae00253dc44a9287390\n",
            "  Stored in directory: /root/.cache/pip/wheels/ad/a3/7d/45f65aa9552a65971e72d33ab8a8b5b460e025e2ef89522a9a\n",
            "Successfully built instagrapi\n",
            "Installing collected packages: pycryptodomex, instagrapi\n",
            "Successfully installed instagrapi-1.17.10 pycryptodomex-3.17\n"
          ]
        }
      ]
    },
    {
      "cell_type": "code",
      "source": [
        "from instagrapi import Client\n",
        "from instagrapi.types import StoryMention, StoryMedia, StoryLink, StoryHashtag\n",
        "from nltk.data import OpenOnDemandZipFile\n",
        "from wand.image import Image\n",
        "from wand.color import Color\n",
        "from wand.drawing import Drawing\n",
        "from wand.display import display\n",
        "from wand.font import Font\n",
        "from urllib.request import urlopen\n",
        "import requests\n",
        "from sumy.parsers.plaintext import PlaintextParser\n",
        "from sumy.nlp.tokenizers import Tokenizer\n",
        "from sumy.summarizers.luhn import LuhnSummarizer\n",
        "from sumy.nlp.stemmers import Stemmer\n",
        "from newspaper import Article\n",
        "\n",
        "import nltk\n",
        "nltk.download('punkt')\n",
        "\n",
        "\n",
        "url = \"https://www.nytimes.com/2023/06/10/us/politics/kaczynski-unabomber-suicide-prison.html\"\n",
        "article  =  Article(url)\n",
        "article.download()\n",
        "article.parse()\n",
        "article.nlp()\n",
        "\n",
        "\n",
        "res = \"\"\n",
        "LANGUAGE = \"english\"\n",
        "SENTENCES_COUNT = 2\n",
        "\n",
        "parser = PlaintextParser.from_string(article.text, Tokenizer(LANGUAGE))\n",
        "stemmer = Stemmer(LANGUAGE)\n",
        "\n",
        "print(\"\\n====== Luhn ======\")\n",
        "summarizerLuhn = LuhnSummarizer(stemmer)\n",
        "for sentenceLuhn in summarizerLuhn(parser.document, SENTENCES_COUNT):\n",
        "    print(sentenceLuhn, \"\\n\")\n",
        "    res+=str(sentenceLuhn)\n",
        "\n",
        "\n",
        "\n",
        "image_url = list(article.images)[0]\n",
        "opened = urlopen(image_url)\n",
        "image_blob = requests.get(image_url)\n",
        "\n",
        "dims = (1080, 1920)\n",
        "ideal_width = dims[0]\n",
        "ideal_height = dims[1]\n",
        "ideal_aspect = ideal_width / ideal_height\n",
        "\n",
        "# Get the size of the downloaded image\n",
        "with Image(file=opened) as img:\n",
        "    size = img.size\n",
        "\n",
        "width = size[0]\n",
        "height = size[1]\n",
        "aspect = width/height\n",
        "CAPTION = (res)\n",
        "\n",
        "\n",
        "if aspect > ideal_aspect:\n",
        "    # Then crop the left and right edges:\n",
        "    new_width = int(ideal_aspect * height)\n",
        "    offset = (width - new_width) / 2\n",
        "    resize = (int(offset), 0, int(width - offset), int(height))\n",
        "else:\n",
        "    # ... crop the top and bottom:\n",
        "    new_height = int(width / ideal_aspect)\n",
        "    offset = (height - new_height) / 2\n",
        "    resize = (0, int(offset), int(width), int(height - offset))\n",
        "\n",
        "opened = urlopen(image_url)\n",
        "with Image(file=opened) as img:\n",
        "    img.crop(*resize)\n",
        "    img.save(filename='cropped.jpg')\n",
        "\n",
        "\n",
        "with Image(filename=\"cropped.jpg\") as canvas:\n",
        "    canvas.font = Font(\"SanFranciscoDisplay-Bold.otf\",\n",
        "                        size=20,\n",
        "                        color=Color('white'))\n",
        "    caption_width = int(canvas.width/1.2)\n",
        "    margin_left = int((canvas.width-caption_width)/2)\n",
        "    margin_top = int(canvas.height/2)\n",
        "    canvas.caption(CAPTION, gravity='center',\n",
        "                   width=caption_width, left=margin_left,\n",
        "                   top=margin_top)\n",
        "    canvas.format = \"jpg\"\n",
        "    canvas.save(filename='text_overlayed_1.jpg')\n",
        "\n",
        "\n",
        "\n",
        "cl = Client()\n",
        "cl.login(\"ahmad....\", \"bego...\", verification_code=\"<2FA CODE HERE>\")\n",
        "\n",
        "path = \"/content/text_overlayed_1.jpg\"\n",
        "cl.photo_upload_to_story(path, links=[StoryLink(webUri=article_link)])"
      ],
      "metadata": {
        "id": "V5ObbpIuQ8mU",
        "colab": {
          "base_uri": "https://localhost:8080/"
        },
        "outputId": "5cf3b3ad-9a19-4f82-a0b8-11e8c4dd8499"
      },
      "execution_count": null,
      "outputs": [
        {
          "output_type": "stream",
          "name": "stderr",
          "text": [
            "[nltk_data] Downloading package punkt to /root/nltk_data...\n",
            "[nltk_data]   Package punkt is already up-to-date!\n"
          ]
        },
        {
          "output_type": "stream",
          "name": "stdout",
          "text": [
            "\n",
            "====== Luhn ======\n",
            "Emergency workers were called to Mr. Kaczynski’s cell at 12:23 a.m. at the Federal Medical Center, Butner, according to the Federal Bureau of Prisons. \n",
            "\n",
            "The Office of the Chief Medical Examiner in North Carolina confirmed in an email that it conducts autopsies of deaths at the federal medical center in Butner, but offered no timetable for when one might be completed for Mr. Kaczynski. \n",
            "\n"
          ]
        },
        {
          "output_type": "execute_result",
          "data": {
            "text/plain": [
              "Story(pk='3123778932964631481', id='3123778932964631481_60256283100', code='CtZ5GOYNKO5', taken_at=datetime.datetime(2023, 6, 12, 20, 58, 2, tzinfo=datetime.timezone.utc), media_type=1, product_type='story', thumbnail_url=HttpUrl('https://scontent-ams2-1.cdninstagram.com/v/t51.2885-15/353425806_5719086588191489_157555718897045165_n.jpg?stp=dst-jpg_e35&_nc_ht=scontent-ams2-1.cdninstagram.com&_nc_cat=105&_nc_ohc=0D2DvAWUoWUAX87TMTd&edm=AO5kzY0BAAAA&ccb=7-5&ig_cache_key=MzEyMzc3ODkzMjk2NDYzMTQ4MQ%3D%3D.2-ccb7-5&oh=00_AfBquG0QzaqHtdJF-FJxqpVeiqZ5Nh7tvpH7f6hFYVa2Pg&oe=6489693E&_nc_sid=c54cf3', ), user=UserShort(pk='60256283100', username='ahmadmmalik2', full_name='Ahmad Test', profile_pic_url=HttpUrl('https://scontent-ams4-1.cdninstagram.com/v/t51.2885-19/44884218_345707102882519_2446069589734326272_n.jpg?_nc_ht=scontent-ams4-1.cdninstagram.com&_nc_cat=1&_nc_ohc=R-jUBFofIXUAX_2enQn&edm=AAAAAAABAAAA&ccb=7-5&ig_cache_key=YW5vbnltb3VzX3Byb2ZpbGVfcGlj.2-ccb7-5&oh=00_AfCHrusliCXSFSP6vn3SYEjD_NiTfdAok9dnmtx6h4zICw&oe=648BC58F', ), profile_pic_url_hd=None, is_private=False, stories=[]), video_url=None, video_duration=0.0, sponsor_tags=[], mentions=[], links=[], hashtags=[], locations=[], stickers=[], medias=[])"
            ]
          },
          "metadata": {},
          "execution_count": 24
        }
      ]
    },
    {
      "cell_type": "markdown",
      "source": [],
      "metadata": {
        "id": "rzZ0ca8IRYYp"
      }
    }
  ]
}